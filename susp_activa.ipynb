{
 "cells": [
  {
   "cell_type": "markdown",
   "metadata": {},
   "source": [
    "# Practica 1\n",
    "\n",
    "## Problema 1: Suspensión Activa"
   ]
  },
  {
   "cell_type": "markdown",
   "metadata": {},
   "source": [
    "### Configuración física\n",
    "\n",
    "El diseño de un sistema de suspensión automotriz es un problema de control interesante y desafiante. Cuando se diseña el sistema de suspensión, se usa un modelo de 1/4 (una de las cuatro ruedas) para simplificar el problema a un sistema de resorte-amortiguador múltiple 1-D. A continuación se muestra un diagrama de este sistema."
   ]
  },
  {
   "cell_type": "markdown",
   "metadata": {},
   "source": [
    "```{figure} .\\susp1.png\n",
    ":width: 400px\n",
    ":align: center\n",
    ":name: susp\n",
    "\n",
    "Suspensión activa\n",
    "```\n",
    "\n",
    "\n",
    "Este modelo es para un sistema de suspensión activa donde se incluye un actuador que puede generar la fuerza de control $U$ para controlar el movimiento de la carrocería del autobús."
   ]
  },
  {
   "cell_type": "markdown",
   "metadata": {},
   "source": [
    "Parámetros del sistema\n",
    "\n",
    "(M1) 1/4 masa del cuerpo del autobús 2500 kg\n",
    "\n",
    "(M2) masa de suspensión 320 kg\n",
    "\n",
    "(K1) constante de resorte del sistema de suspensión 80,000 N/m\n",
    "\n",
    "(K2) constante de resorte de rueda y neumático 500,000 N/m\n",
    "\n",
    "(b1) constante de amortiguamiento del sistema de suspensión 350 N.s/m\n",
    "\n",
    "(b2) constante de amortiguamiento de rueda y neumático 15,020 N.s/m\n",
    "\n",
    "(U) fuerza de control"
   ]
  },
  {
   "cell_type": "markdown",
   "metadata": {},
   "source": [
    "### Ecuaciones de movimiento\n",
    "\n",
    "De la imagen de arriba y la ley de Newton, podemos obtener las ecuaciones dinámicas de la siguiente manera:\n",
    "\n",
    "$$ M_1 \\ddot{x}_1 = - b_1 (\\dot{x}_1 - \\dot{x}_2) - K_1 (x_1 - x_2) + u \\ $$\n",
    "\n",
    "$$ M_2 \\ddot{x}_2 = b_1 (\\dot{x}_1 - \\dot{x}_2) + K_1 (x_1 - x_2) + b_2 (\\dot{w} - \\dot{x} _2) + K_2 (w - x_2) - u$$"
   ]
  },
  {
   "cell_type": "markdown",
   "metadata": {},
   "source": [
    "En la siguiente celda importo las útilidades de Python que estaremos utilizando"
   ]
  },
  {
   "cell_type": "code",
   "execution_count": 7,
   "metadata": {},
   "outputs": [],
   "source": [
    "import control as ctrl\n",
    "import numpy as np\n",
    "import matplotlib.pyplot as plt"
   ]
  },
  {
   "cell_type": "markdown",
   "metadata": {},
   "source": [
    "Ahora defino los parámetros y las funciones que gobiernan la dinámica del sistema (no es necesario entender la implementación)"
   ]
  },
  {
   "cell_type": "code",
   "execution_count": 8,
   "metadata": {},
   "outputs": [],
   "source": [
    "params = {'M1': 2500, 'M2': 320, 'K1': 80000, 'K2': 500000, 'b1': 350, 'b2': 15020}\n",
    "\n",
    "def derivs_susp(t, x, u, params):\n",
    "    \"Las ecuaciones de las derivadadas de las variables de estados\"\n",
    "    f, w = u\n",
    "    x1, x2, y1, y2 = x  \n",
    "\n",
    "    m1 = params.get('M1', 2500)\n",
    "    m2 = params.get('M2', 320)\n",
    "    k1 = params.get('K1', 80000)\n",
    "    k2 = params.get('K2', 500000)\n",
    "    b1 = params.get('b1', 350)\n",
    "    b2 = params.get('b2', 15020)\n",
    "\n",
    "    dx1 = x2\n",
    "    dx2 = -(b1*b2)/(m1*m2)*x1 + (((b1/m1)*((b1/m1)+(b1/m2)+(b2/m2)))-(k1/m1))*y1 - (b1/m1)*y2 + 1/m1*f + (b1*b2)/(m1*m2)*w\n",
    "    dy1 = b2/m2*x1 - ((b1/m1)+(b1/m2)+(b2/m2))*y1 + y2  - (b2/m2)*w\n",
    "    dy2 = k2/m2*x1 - ((k1/m1)+(k1/m2)+(k2/m2))*y1 + ((1/m1)+(1/m2))*f - (k2/m2)*w\n",
    "    return dx1, dx2, dy1, dy2\n",
    "\n",
    "def outputs_susp(t, x, u, params):\n",
    "    \"Las salidas del sistema\"\n",
    "    return [x[3]]"
   ]
  },
  {
   "cell_type": "markdown",
   "metadata": {},
   "source": [
    "La variable medida en este sistema es\n",
    "\n",
    "$$y=x_1-x_2$$\n",
    "\n",
    "En la siguiente linea se crea un modelo del sistema de la suspensión. Las variables de entrada son la varaible $u$ y al varable $w$."
   ]
  },
  {
   "cell_type": "code",
   "execution_count": 9,
   "metadata": {},
   "outputs": [],
   "source": [
    "susp_sys = ctrl.NonlinearIOSystem(updfcn=derivs_susp, \n",
    "                                  outfcn=outputs_susp, \n",
    "                                  inputs=['u','w'], \n",
    "                                  outputs=['y1'], \n",
    "                                  states=['x1', 'dx1', 'y1', 'dy1'], \n",
    "                                  name='susp')"
   ]
  },
  {
   "cell_type": "markdown",
   "metadata": {},
   "source": [
    "Ahora vamos a definir el vector de entradas $U$, contiene las entradas $u$ y $w$ para cada instante definido en un vector $T$."
   ]
  },
  {
   "cell_type": "code",
   "execution_count": 47,
   "metadata": {},
   "outputs": [],
   "source": [
    "T=np.linspace(0,40,501)\n",
    "\n",
    "def Usignal(T):\n",
    "    U = np.zeros((2, len(T)))\n",
    "    for i, t in enumerate(T):\n",
    "        U[1,i] = 0.1 if t >= 0.2 and t < 2.5 else  0 # u vale 0.1 entre 0.2<t<2.5, sino 0    \n",
    "    return U\n",
    "\n",
    "U=Usignal(T)"
   ]
  },
  {
   "cell_type": "markdown",
   "metadata": {},
   "source": [
    "Grafico las señales $u$ y $w$"
   ]
  },
  {
   "cell_type": "code",
   "execution_count": 48,
   "metadata": {},
   "outputs": [
    {
     "data": {
      "image/png": "[encoded data removed]",
      "text/plain": [
       "<Figure size 864x360 with 1 Axes>"
      ]
     },
     "metadata": {
      "needs_background": "light"
     },
     "output_type": "display_data"
    }
   ],
   "source": [
    "fig, ax = plt.subplots(figsize=(12,5))\n",
    "ax.plot(T, U[0,:], label=r'$u$')\n",
    "ax.plot(T, U[1,:], label=r'$w$')\n",
    "ax.set_xlabel('Tiempo [s]')\n",
    "ax.set_ylabel('Amplitud señal (u en Newton, w en metros')\n",
    "ax.legend()\n",
    "ax.grid();"
   ]
  },
  {
   "cell_type": "markdown",
   "metadata": {},
   "source": [
    "Ahora simularemos la respuesta al sistema a esas dos entradas."
   ]
  },
  {
   "cell_type": "code",
   "execution_count": 51,
   "metadata": {},
   "outputs": [],
   "source": [
    "x0 = (0, 0, 0, 0)\n",
    "t, y = ctrl.input_output_response(susp_sys, T, U, x0)"
   ]
  },
  {
   "cell_type": "markdown",
   "metadata": {},
   "source": [
    "En $y$ y en $t$ ahora están los valores que toman la salida $y(t) = x_1(t)-x_2(t)$, para distintos valores de $t$."
   ]
  },
  {
   "cell_type": "markdown",
   "metadata": {},
   "source": [
    "## Resolver"
   ]
  },
  {
   "cell_type": "markdown",
   "metadata": {},
   "source": [
    "1. Hacer un diagrama del bloque de la suspensión donde se vean cuales son las entradas y las salidas. De las entradas diferenciar cuales son perturbaciones y cuales son variables manipuladas.\n",
    "\n",
    "```{figure} .\\DiagramaFondoTransparente.png\n",
    ":width: 1000px\n",
    ":align: center\n",
    ":name: DragramaDeBloques\n",
    "\n",
    "Diagrama de Bloques\n",
    "```\n",
    "\n",
    "1. Viendo la grafica de las entradas anterior, analizar:\n",
    "    - Qué fénomino físico se está evaluando si $w$ tiene la forma mostrada en la figura anterior: \n",
    "    \n",
    "    `Se esta evaluando la respuesta de un sistema mecánico de amortiguamiento frente a la perturbación de un bache \"w\" que dura 2,5 segundos.`\n",
    "    - Qué significa que la señal $u$ sea siempre cero:\n",
    "    \n",
    "    `Significa que no está actuando el sistema de control con ninguna fuerza \"u\".`\n",
    "    \n",
    "1. Graficar la salida $y$ obtenida de la simulación del sistema. Analizar la respuesta. ¿Será confortable el viaje en un bus con esa supensión?"
   ]
  },
  {
   "cell_type": "code",
   "execution_count": 54,
   "metadata": {},
   "outputs": [
    {
     "data": {
      "image/png": "[encoded data removed]",
      "text/plain": [
       "<Figure size 864x360 with 1 Axes>"
      ]
     },
     "metadata": {
      "needs_background": "light"
     },
     "output_type": "display_data"
    }
   ],
   "source": [
    "fig, ax = plt.subplots(figsize=(12,5))\n",
    "ax.plot(T, y[0,:], label=r'$y$')\n",
    "ax.set_xlabel('Tiempo [s]')\n",
    "ax.set_ylabel('Recorrido (y en metros)')\n",
    "ax.legend()\n",
    "ax.grid();"
   ]
  },
  {
   "cell_type": "markdown",
   "metadata": {},
   "source": [
    "`Probablemente un viaje en un bus con esa suspensión no sea demasiado confortable, ya que sería necesario esperar un tiempo considerable, de alrededor de 40 segundos para atenuar la perturbación del sistema causada por la entrada \"w\"`\n",
    "\n",
    "Ayuda: \n",
    "- Utilizar como referencia el código de las gráficas de $U$ para hacer la gráfica de $y$\n",
    "- con `y.shape` y `t.shape` obtenemos la \"forma\" de la señal. Por ejemplo, al señal $U$ de la figura anterior tiene `(2, 501)`, es decir, 2 filas (una para $u$ y otra para $w$) y 501 columnas (una para cada instante simulado).\n",
    "- para hacer el diagrama de bloques usar como referencia el apunte de introducción a señales y sistemas."
   ]
  }
 ],
 "metadata": {
  "interpreter": {
   "hash": "eeb89ec2d4256093ec08ae7c23d5ea57630776f1c9e2158155f947f40df78129"
  },
  "jupytext": {
   "formats": "ipynb,md:myst"
  },
  "kernelspec": {
   "display_name": "Python 3 (ipykernel)",
   "language": "python",
   "name": "python3"
  },
  "language_info": {
   "codemirror_mode": {
    "name": "ipython",
    "version": 3
   },
   "file_extension": ".py",
   "mimetype": "text/x-python",
   "name": "python",
   "nbconvert_exporter": "python",
   "pygments_lexer": "ipython3",
   "version": "3.10.2"
  }
 },
 "nbformat": 4,
 "nbformat_minor": 4
}
