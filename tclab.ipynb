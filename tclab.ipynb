{
 "cells": [
  {
   "cell_type": "markdown",
   "id": "c347e76b-2453-46f2-b846-5c4d31df8bf4",
   "metadata": {},
   "source": [
    "# Practica 1\n",
    "\n",
    "## Problema 2: Laboratorio de control de tempratura BYU\n",
    "\n",
    "Este modelo representa el [Laboratorio de control de temperatura de BYU](http://apmonitor.com/pdc/index.php/Main/ArduinoTemperatureControl). El laboratorio de control de temperatura es una aplicación de control con un Arduino, un LED, dos calentadores y dos sensores de temperatura. La potencia de salida del calentador se ajusta para mantener una de las tempraturas en el valor deseado. La energía térmica del calentador se transfiere por conducción, convección y radiación al sensor de temperatura. El calor también se transfiere del dispositivo al entorno."
   ]
  },
  {
   "cell_type": "markdown",
   "id": "e492386f-f356-4981-b10e-fa3c5718b4b6",
   "metadata": {},
   "source": [
    "```{figure} .\\tclab_device.png\n",
    ":name: tclab\n",
    ":alt: control de teperantura\n",
    ":width: 250\n",
    ":align: center\n",
    "\n",
    "Dispositivo de control de temperatura\n",
    "```"
   ]
  },
  {
   "cell_type": "markdown",
   "id": "1741d925-0684-4011-a324-3fa3a04d8cc2",
   "metadata": {},
   "source": [
    "### Descrpción del problema de control"
   ]
  },
  {
   "cell_type": "markdown",
   "id": "771bda37-39f4-4ec3-ae54-63b30158e99b",
   "metadata": {},
   "source": [
    "Con este sistema el objetivo será controlar la temperatura en uno de los calentadores, que es medida mediante la señal $T1$. Para este propósito de control se utiliza la señal $Q1$. \n",
    "\n",
    "La señal $Q2$ no podrá ser utilizada por nuestro sitema de control, ya que es utilizada por otro lazo. \n",
    "\n",
    "Se tiene una segunda medición $T2$ que es la temperatura de un segundo calentador, pero que no nos interesa controlar.\n",
    "\n",
    "A continuación se implementa un modelo de este sistema en Python. Para esto primero importamos las herramientas de Python que utilizaremos."
   ]
  },
  {
   "cell_type": "code",
   "execution_count": 1,
   "id": "d0271ff2-d3c1-48f1-9a57-7c6983830bbc",
   "metadata": {},
   "outputs": [],
   "source": [
    "import control as ctrl\n",
    "import matplotlib.pyplot as plt\n",
    "import numpy as np"
   ]
  },
  {
   "cell_type": "markdown",
   "id": "7de8836c-8263-4a90-8d48-232bd858b1a2",
   "metadata": {},
   "source": [
    "Escribimos ahora las ecuaciones que gobiernan la dinámica del sistema"
   ]
  },
  {
   "cell_type": "code",
   "execution_count": 2,
   "id": "8412417a-f1e3-4cde-be22-bce1b188c100",
   "metadata": {},
   "outputs": [],
   "source": [
    "def derivs_tclab(t, x, u, params):\n",
    "    \"Las ecuaciones de las derivadads en las ecuaciones de estados\"\n",
    "    Q1 = u[0]\n",
    "    Q2 = u[1]\n",
    "    Ta=params.get('Ta', 19)\n",
    "    P1max=params.get('P1max', 100)\n",
    "    P2max=params.get('P2max', 200)\n",
    "    H1 = x[0]\n",
    "    H2 = x[1]\n",
    "    T1 = x[2]\n",
    "    T2 = x[3]\n",
    "    DeltaTaH1 = Ta - H1\n",
    "    DeltaTaH2 = Ta - H2\n",
    "    DeltaT12 = H1 - H2\n",
    "    dH1 = P1max * Q1 / 5720 + DeltaTaH1 / 20 - DeltaT12 / 100\n",
    "    dH2 = P2max * Q2 / 5720 + DeltaTaH2 / 20 + DeltaT12 / 100\n",
    "    dT1 =(H1 - T1)/140\n",
    "    dT2 = (H2 - T2)/140\n",
    "    return [dH1, dH2, dT1, dT2]\n",
    "\n",
    "\n",
    "def output_tclab(t, x, u, params):\n",
    "    \"Las ecuaciones de las salida\"\n",
    "    return [x[2], x[3]]"
   ]
  },
  {
   "cell_type": "markdown",
   "id": "e6947582-f212-46da-b6cc-38518cd36935",
   "metadata": {},
   "source": [
    "Con estas ecuaciones implementamos en Python el modelo no lienal del sistema."
   ]
  },
  {
   "cell_type": "code",
   "execution_count": 3,
   "id": "13bb3071-230d-436c-a869-6474dcbe9295",
   "metadata": {},
   "outputs": [],
   "source": [
    "tclab_sys = ctrl.NonlinearIOSystem(updfcn=derivs_tclab, \n",
    "                                  outfcn=output_tclab, \n",
    "                                  inputs=('Q1', 'Q2'), \n",
    "                                  outputs=('T1', 'T2'), \n",
    "                                  states=['H1', 'H2', 'T1', 'T2'], \n",
    "                                  name='susp')"
   ]
  },
  {
   "cell_type": "markdown",
   "id": "cc1141f6-4a1d-4e3c-92d7-31b2362d2311",
   "metadata": {},
   "source": [
    "Ahora vamos a definir el vector de entradas $U$, contiene las entradas $T1$ y $T2$ para cada instante definido en un vector $T$."
   ]
  },
  {
   "cell_type": "code",
   "execution_count": 4,
   "id": "e13b503b-90c3-44bc-acee-196ca0859e1b",
   "metadata": {},
   "outputs": [],
   "source": [
    "T=np.linspace(0,2000, 2000)\n",
    "def Usignal(T):\n",
    "    U = np.zeros((2, len(T)))\n",
    "    for i, t in enumerate(T):\n",
    "        U[0,i] = 50 if t > 400 and t < 1600 else  0\n",
    "        U[1,i] = 50 if t > 1200 else  0\n",
    "        \n",
    "    return U\n",
    "\n",
    "U=Usignal(T)"
   ]
  },
  {
   "cell_type": "markdown",
   "id": "e70aec28-2b1a-4e21-8869-9b826d7490d5",
   "metadata": {},
   "source": [
    "Grafico las señales $Q1$ y $Q2$"
   ]
  },
  {
   "cell_type": "code",
   "execution_count": 5,
   "id": "792099a5-850d-49e0-a470-07b7d81bdb3b",
   "metadata": {},
   "outputs": [
    {
     "data": {
      "image/png": "[encoded data removed]",
      "text/plain": [
       "<Figure size 864x360 with 1 Axes>"
      ]
     },
     "metadata": {
      "needs_background": "light"
     },
     "output_type": "display_data"
    }
   ],
   "source": [
    "fig, ax = plt.subplots(figsize=(12,5))\n",
    "ax.plot(T, U[0,:], label=r'$Q1$')\n",
    "ax.plot(T, U[1,:], label=r'$Q2$')\n",
    "ax.set_xlabel('Tiempo [s]')\n",
    "ax.set_ylabel('Potencia en % pot Max ')\n",
    "ax.legend();"
   ]
  },
  {
   "cell_type": "markdown",
   "id": "19cc7dbd-9cf2-4bf2-970f-95807c187c46",
   "metadata": {},
   "source": [
    "Ahora simularemos la respuesta al sistema a esas dos entradas. Consideraremos que todas las temperaturas del sistema están en equilibrio con la temperatura ambiente (19 grados)"
   ]
  },
  {
   "cell_type": "code",
   "execution_count": 30,
   "id": "aadaa1bf-280d-4942-94c5-0bf4aafefbc7",
   "metadata": {},
   "outputs": [],
   "source": [
    "X0 = [19,19, 19, 19]\n",
    "t,y = ctrl.input_output_response(tclab_sys, T, U, X0)\n"
   ]
  },
  {
   "cell_type": "markdown",
   "id": "a50b0ca3-bb94-4771-bc9d-afc80d62428e",
   "metadata": {},
   "source": [
    "En $y$ y en $t$ ahora están los valores que toman la salida $y(t) = [T1(t), T2(t)]$, para distintos valores de $t$."
   ]
  },
  {
   "cell_type": "markdown",
   "id": "ce84eb51-ceff-4efd-a2d3-2902eba17832",
   "metadata": {},
   "source": [
    "## Práctico 1"
   ]
  },
  {
   "cell_type": "markdown",
   "id": "f1a9a9ec-657b-4d46-bf83-5790ccda4ba8",
   "metadata": {},
   "source": [
    "1. Hacer un diagrama del bloque del laboratorio de temperatura donde se vean cuales son las entradas y las salidas. De las entradas diferenciar cuales son perturbaciones y cuales son variables manipuladas.\n",
    "\n",
    "```{figure} .\\Punto 2.drawio.png\n",
    ":name: Diagramadebloques\n",
    ":alt: Diagrama de Bloques\n",
    ":width: 1000\n",
    ":align: center\n",
    "\n",
    "Diagrama de Bloques\n",
    "```\n",
    "1. Viendo la grafica de las entradas anterior, analizar:"
   ]
  },
  {
   "cell_type": "code",
   "execution_count": 29,
   "id": "16f3932a-61c4-447c-994e-b4eb6e64c2a0",
   "metadata": {},
   "outputs": [
    {
     "data": {
      "image/png": "[encoded data removed]",
      "text/plain": [
       "<Figure size 864x360 with 1 Axes>"
      ]
     },
     "metadata": {
      "needs_background": "light"
     },
     "output_type": "display_data"
    }
   ],
   "source": [
    "fig, ax = plt.subplots(figsize=(12,5))\n",
    "ax.plot(T, U[0,:], label=r'$Q1$', color='pink')\n",
    "ax.plot(T, U[1,:], label=r'$Q2$', color='purple')\n",
    "ax.set_xlabel('Tiempo [s]')\n",
    "ax.set_ylabel('Potencia en % pot Max ')\n",
    "ax.legend();"
   ]
  },
  {
   "cell_type": "markdown",
   "id": "c0c8c083-e692-481f-9cbf-a9b591f1a674",
   "metadata": {},
   "source": [
    "    - Cuándo entran la perturabación y de que dimensión: \n",
    "    \n",
    "    La perturbación entra en el tiempo t=1200 seg y es de dimensión de 50% de la Potencia Máxima\n",
    "    \n",
    "    - cuando entra la señal de control y de que dimensión es y como afecta: \n",
    "    \n",
    "    La señal de control ingresa en el tiempo t=400, es de la misma dimensión que la perturbación 50% de la Potencia máxima y afecta la temperatura del calentador.\n",
    "    \n",
    "1. Graficar la salida $y$ obtenida de la simulación del sistema. Analizar la respuesta."
   ]
  },
  {
   "cell_type": "code",
   "execution_count": 32,
   "id": "d8b70dea-7bda-467e-8070-abec28620e47",
   "metadata": {},
   "outputs": [
    {
     "data": {
      "image/png": "[encoded data removed]",
      "text/plain": [
       "<Figure size 864x360 with 1 Axes>"
      ]
     },
     "metadata": {
      "needs_background": "light"
     },
     "output_type": "display_data"
    }
   ],
   "source": [
    "fig, ax = plt.subplots(figsize=(12,5))\n",
    "ax.plot(T, y[0,:], label=r'$T1(t)$', color='pink')\n",
    "ax.plot(T, y[1,:], label=r'$T2(t)$', color='purple')\n",
    "ax.set_xlabel('Tiempo [s]')\n",
    "ax.set_ylabel('Temperatura [°C] ')\n",
    "ax.legend();"
   ]
  },
  {
   "cell_type": "markdown",
   "id": "7e4bb056-58a8-4b9f-a69d-2e5b8bc36c61",
   "metadata": {},
   "source": [
    "    - Analizar como varian las salidas consierando las gráficas de $T1$ y $T2$:\n",
    "    \n",
    "   $T1$ Aumenta inicialmente frente a la entrada y luego un poco mas por la perturbacion, luego su valor decrece.\n",
    "    \n",
    "   $T2$ Crece levemente frente a la entrada $Q1$ y luego lo hace abruptamente frente a la entrada $Q2$\n",
    "    \n",
    "    - es correcto usar $Q1$ para controlar $T1$ o es mejor usar $Q2$ para tal fin\n",
    "    \n",
    "  Parece ser mejor $Q2$ para controlar $T1$, sin embargo, aumenta fuertemente la temperatura del segundo calentador, lo cual si bien no se espera controlar esta variable, puede ser un efecto no deseado. Al ver que tanto $Q1$ como $Q2$ influyen en el valor de $T1$ se determina que la que produce una mayor variacion en la medida es la ideal, lo cual corresponde al caso de $Q2$.\n",
    "    \n",
    "    \n",
    "\n",
    "Ayuda: \n",
    "- Utilizar como referencia el código de las gráficas de $U$ para hacer la gráfica de $y$\n",
    "- con `y.shape` y `t.shape` obtenemos la \"forma\" de la señal. Por ejemplo, la señal $U$ de la figura anterior tiene `(2, 2000)`, es decir, 2 filas (una para $u$ y otra para $w$) y 2000 columnas (una para cada instante simulado).\n",
    "- para hacer el diagrama de bloques usar como referencia el apunte de introducción a señales y sistemas."
   ]
  },
  {
   "cell_type": "code",
   "execution_count": null,
   "id": "bbef4014-2dc1-40fd-972a-70441e2233bd",
   "metadata": {},
   "outputs": [],
   "source": []
  }
 ],
 "metadata": {
  "jupytext": {
   "formats": "ipynb,md:myst"
  },
  "kernelspec": {
   "display_name": "Python 3 (ipykernel)",
   "language": "python",
   "name": "python3"
  },
  "language_info": {
   "codemirror_mode": {
    "name": "ipython",
    "version": 3
   },
   "file_extension": ".py",
   "mimetype": "text/x-python",
   "name": "python",
   "nbconvert_exporter": "python",
   "pygments_lexer": "ipython3",
   "version": "3.10.2"
  }
 },
 "nbformat": 4,
 "nbformat_minor": 5
}
